{
 "cells": [
  {
   "cell_type": "markdown",
   "id": "69026b53",
   "metadata": {},
   "source": [
    "## Условие 2\n",
    "\n",
    "На складе лежат разные фрукты в разном количестве.\n",
    "Нужно написать функцию, которая на вход принимает любое количество названий фруктов и их количество, а возвращает общее количество фруктов на складе"
   ]
  },
  {
   "cell_type": "code",
   "execution_count": 9,
   "id": "3dc46fe9",
   "metadata": {},
   "outputs": [
    {
     "data": {
      "text/plain": [
       "12"
      ]
     },
     "execution_count": 9,
     "metadata": {},
     "output_type": "execute_result"
    }
   ],
   "source": [
    "def fruits_count(**kwargs):\n",
    "    return sum([value for value in kwargs.values()])\n",
    "\n",
    "fruits_count(apples=3, oranges=4, bananas=5)"
   ]
  },
  {
   "cell_type": "markdown",
   "id": "168f44c9",
   "metadata": {},
   "source": [
    "## Условие 3\n",
    "Дан список с затратами на рекламу. Но в данных есть ошибки, некоторые затраты имеют отрицательную величину. Удалите такие значения из списка и посчитайте суммарные затраты"
   ]
  },
  {
   "cell_type": "code",
   "execution_count": 45,
   "id": "43ac84e2",
   "metadata": {},
   "outputs": [],
   "source": [
    "costs = [100, 125, -90, 345, 655, -1, 0, 200]"
   ]
  },
  {
   "cell_type": "markdown",
   "id": "185c1df4",
   "metadata": {},
   "source": [
    "Используйте list comprehensions"
   ]
  },
  {
   "cell_type": "code",
   "execution_count": 46,
   "id": "558ff5ad",
   "metadata": {},
   "outputs": [],
   "source": [
    "corrected_costs = [value for value in costs if value>0]"
   ]
  },
  {
   "cell_type": "code",
   "execution_count": 47,
   "id": "1831df8d",
   "metadata": {},
   "outputs": [
    {
     "data": {
      "text/plain": [
       "1425"
      ]
     },
     "execution_count": 47,
     "metadata": {},
     "output_type": "execute_result"
    }
   ],
   "source": [
    "sum(corrected_costs)"
   ]
  },
  {
   "cell_type": "markdown",
   "id": "543f5672",
   "metadata": {},
   "source": [
    "## Условие 4\n",
    "\n",
    "Даны два списка.\n",
    "\n",
    "Дата покупки:"
   ]
  },
  {
   "cell_type": "code",
   "execution_count": 56,
   "id": "13cc3522",
   "metadata": {},
   "outputs": [],
   "source": [
    "purchase_dates = ['2021-09-14', '2021-12-15', '2021-09-08', '2021-12-05', '2021-10-09', \n",
    "         '2021-09-30', '2021-12-22', '2021-11-29', '2021-12-24', '2021-11-26', \n",
    "         '2021-10-27', '2021-12-18', '2021-11-09', '2021-11-23', '2021-09-27', \n",
    "         '2021-10-02', '2021-12-27', '2021-09-20', '2021-12-13', '2021-11-01', \n",
    "         '2021-11-09', '2021-12-06', '2021-12-08', '2021-10-09', '2021-10-31', \n",
    "         '2021-09-30', '2021-11-09', '2021-12-13', '2021-10-26', '2021-12-09']"
   ]
  },
  {
   "cell_type": "markdown",
   "id": "a8979fde",
   "metadata": {},
   "source": [
    "Суммы покупок по датам:"
   ]
  },
  {
   "cell_type": "code",
   "execution_count": 50,
   "id": "42d41112",
   "metadata": {},
   "outputs": [],
   "source": [
    "purchase_amounts = [1270, 8413, 9028, 3703, 5739, 4095, 295, 4944, 5723, 3701, \n",
    " 4471, 651, 7037, 4274, 6275, 4988, 6930, 2971, 6592, 2004, \n",
    " 2822, 519, 3406, 2732, 5015, 2008, 316, 6333, 5700, 2887]"
   ]
  },
  {
   "cell_type": "markdown",
   "id": "0c6f3ecf",
   "metadata": {},
   "source": [
    "### 4.1 Найдите, какая выручка у компании в ноябре\n",
    "Используйте list comprehensions"
   ]
  },
  {
   "cell_type": "code",
   "execution_count": 51,
   "id": "f281bd02",
   "metadata": {},
   "outputs": [],
   "source": [
    "enumerated_purchase_dates = enumerate(purchase_dates)"
   ]
  },
  {
   "cell_type": "code",
   "execution_count": 52,
   "id": "e2201fa1",
   "metadata": {},
   "outputs": [],
   "source": [
    "november_indexes = [index for (index,date) in enumerated_purchase_dates if date.split('-')[1]=='11']"
   ]
  },
  {
   "cell_type": "code",
   "execution_count": 53,
   "id": "fa424f65",
   "metadata": {},
   "outputs": [
    {
     "data": {
      "text/plain": [
       "25098"
      ]
     },
     "execution_count": 53,
     "metadata": {},
     "output_type": "execute_result"
    }
   ],
   "source": [
    "sum([purchase_amounts[i] for i in november_indexes])"
   ]
  },
  {
   "cell_type": "markdown",
   "id": "9ff0d806",
   "metadata": {},
   "source": [
    "### 4.2 Найдите выручку компании в зависимости от месяца\n",
    "Для этого напишите функцию, которая на вход принимает список с датами и список с выручкой, а на выходе словарь, где ключи - это месяцы, а значения - это выручка.\n",
    "Используйте аннотирование типов."
   ]
  },
  {
   "cell_type": "code",
   "execution_count": 67,
   "id": "b5ce25f2",
   "metadata": {},
   "outputs": [],
   "source": [
    "def monthly_revenues(dates: list, amounts: list) -> dict:\n",
    "    monthly_revenues = dict()\n",
    "    enum_dates = enumerate(dates)\n",
    "    for (i,date) in enum_dates:\n",
    "        month = date.split('-')[1]\n",
    "        if month in monthly_revenues:\n",
    "            monthly_revenues[month] += amounts[i]\n",
    "        else:\n",
    "            monthly_revenues[month] = amounts[i]\n",
    "    return monthly_revenues\n",
    "    "
   ]
  },
  {
   "cell_type": "code",
   "execution_count": 69,
   "id": "cb0f0f8b",
   "metadata": {},
   "outputs": [
    {
     "data": {
      "text/plain": [
       "{'09': 25647, '12': 45452, '10': 28645, '11': 25098}"
      ]
     },
     "execution_count": 69,
     "metadata": {},
     "output_type": "execute_result"
    }
   ],
   "source": [
    "monthly_revenues(purchase_dates, purchase_amounts)"
   ]
  }
 ],
 "metadata": {
  "kernelspec": {
   "display_name": "Python 3 (ipykernel)",
   "language": "python",
   "name": "python3"
  },
  "language_info": {
   "codemirror_mode": {
    "name": "ipython",
    "version": 3
   },
   "file_extension": ".py",
   "mimetype": "text/x-python",
   "name": "python",
   "nbconvert_exporter": "python",
   "pygments_lexer": "ipython3",
   "version": "3.11.2"
  }
 },
 "nbformat": 4,
 "nbformat_minor": 5
}
